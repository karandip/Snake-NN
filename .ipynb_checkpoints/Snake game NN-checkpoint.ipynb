{
 "cells": [
  {
   "cell_type": "markdown",
   "metadata": {
    "heading_collapsed": true
   },
   "source": [
    "## Loading libraries"
   ]
  },
  {
   "cell_type": "code",
   "execution_count": 5,
   "metadata": {
    "hidden": true
   },
   "outputs": [
    {
     "name": "stderr",
     "output_type": "stream",
     "text": [
      "Using TensorFlow backend.\n"
     ]
    }
   ],
   "source": [
    "from collections import Counter\n",
    "import matplotlib.pyplot as plt\n",
    "import keras"
   ]
  },
  {
   "cell_type": "markdown",
   "metadata": {
    "heading_collapsed": true
   },
   "source": [
    "## Building the game"
   ]
  },
  {
   "cell_type": "code",
   "execution_count": 2,
   "metadata": {
    "hidden": true
   },
   "outputs": [],
   "source": [
    "%matplotlib inline\n",
    "import math\n",
    "import random\n",
    "import matplotlib.pyplot as plt\n",
    "import time\n",
    "from IPython import display\n",
    "import numpy as np\n",
    "\n",
    "class Snake:\n",
    "    def __init__(self, width=50, height=50, length=4, skipgui=False, renderdelay=0.2):\n",
    "        assert length < width, \"length is less than width\"\n",
    "        assert length < height, \"length is less than height\"\n",
    "        self.width = width\n",
    "        self.height = height\n",
    "        self.length = length\n",
    "        self.skipgui = skipgui\n",
    "        self.renderdelay = renderdelay\n",
    "        self.snake_generate()\n",
    "        self.food_generate()\n",
    "        self.done=False\n",
    "        \n",
    "    def snake_generate(self):\n",
    "        x = random.randint(self.length,self.width-self.length)\n",
    "        y = random.randint(self.length,self.height-self.length)\n",
    "        vertical=random.randint(0,2)\n",
    "        direction=random.choice([-1,1])\n",
    "        self.snake = [[x,y]]\n",
    "        for _ in range(self.length-1):\n",
    "            if vertical == 1:\n",
    "                self.snake.append([self.snake[-1][0],self.snake[-1][1]+direction])\n",
    "            else:\n",
    "                self.snake.append([self.snake[-1][0]+direction,self.snake[-1][1]])\n",
    "        #self.snake = [[x,int(self.height/2)] for x in range(0,self.length)]\n",
    "        \n",
    "    def food_generate(self):\n",
    "        while True: \n",
    "            self.food_loc = [random.randint(0,self.width-1),random.randint(0,self.height-1)]\n",
    "            if self.food_loc not in self.snake:\n",
    "                break\n",
    "                \n",
    "    def step(self,directions):\n",
    "        for direction in directions:\n",
    "            assert self.done==False,\"Game ended!!\"\n",
    "            self.move(direction)\n",
    "            self.done= not self.ifsurvived()\n",
    "            self.iffoodeaten()\n",
    "            if not self.skipgui:\n",
    "                self.rendergui()\n",
    "            display.clear_output(wait=True)\n",
    "\n",
    "    def move(self,direction):\n",
    "        new = self.snake[-1].copy()\n",
    "        assert direction<4, \"Wrong direction\"\n",
    "        if direction == 0: #RIGHT\n",
    "            new[0] += 1\n",
    "        elif direction == 1: #UP\n",
    "            new[1] += 1\n",
    "        elif direction == 2: #LEFT\n",
    "            new[0] -= 1\n",
    "        else: #DOWN\n",
    "            new[1] -= 1\n",
    "        self.snake.append(new)        \n",
    "        \n",
    "    def ifsurvived(self):\n",
    "        if self.snake[-1][0]<0 or self.snake[-1][1]<0 or \\\n",
    "        self.snake[-1][0]==self.width or self.snake[-1][1]==self.height or \\\n",
    "        self.snake[-1] in self.snake[:-1]:\n",
    "            return False\n",
    "        else:\n",
    "            return True\n",
    "    \n",
    "    def iffoodeaten(self):\n",
    "        if self.food_loc in self.snake:\n",
    "            self.food_generate()\n",
    "            return True\n",
    "        else:\n",
    "            self.snake.pop(0)\n",
    "            return False\n",
    "        \n",
    "    def rendergui(self):\n",
    "        display.clear_output(wait=True)\n",
    "        display.display(self.plotenv())\n",
    "        time.sleep(self.renderdelay)\n",
    "        \n",
    "        \n",
    "    def plotenv(self):\n",
    "        plt.clf()\n",
    "        plt.plot([x[0] for x in self.snake[:-1]],[x[1] for x in self.snake[:-1]], 'bo')\n",
    "        plt.plot(self.snake[-1][0],self.snake[-1][1], 'go')\n",
    "        plt.plot(self.food_loc[0],self.food_loc[1], 'ro')\n",
    "        plt.axis((0,self.width,0,self.height))\n",
    "        return plt.gcf()\n",
    "    \n",
    "    def direction(self):\n",
    "        return [x-y for (x,y) in zip(self.snake[-1],self.snake[-2])]\n",
    "\n",
    "    def leftDirection(self):\n",
    "        d = self.direction()\n",
    "        return [-d[1],d[0]]\n",
    "    \n",
    "    def rightDirection(self):\n",
    "        l = self.leftDirection()\n",
    "        return [-l[0],-l[1]]\n",
    "    \n",
    "    def stepFLR(self,directions):\n",
    "        for direction in directions:\n",
    "            assert self.done==False,\"Game ended!!\"\n",
    "            self.moveFLR(direction)\n",
    "            self.done= not self.ifsurvived()\n",
    "            self.iffoodeaten()\n",
    "            if not self.skipgui:\n",
    "                self.rendergui()\n",
    "            display.clear_output(wait=True)\n",
    "\n",
    "    def moveFLR(self,direction):\n",
    "        new = self.snake[-1].copy()\n",
    "        if direction == 0: #FORWARD\n",
    "            d = self.direction()\n",
    "        elif direction == 1: #RIGHT\n",
    "            d = self.rightDirection()\n",
    "        elif direction == -1: #LEFT\n",
    "            d = self.leftDirection()\n",
    "        else:\n",
    "            assert 1==1, 'Wrong direction'\n",
    "        new[0] += d[0]\n",
    "        new[1] += d[1]\n",
    "        self.snake.append(new)\n",
    "        \n",
    "    def appleDirection(self):\n",
    "        head = self.snake[-1]\n",
    "        return [head[0]-self.food_loc[0],head[1]-self.food_loc[1]]\n",
    "    \n",
    "    def angleBtw(self):\n",
    "        sd = np.array(self.direction())\n",
    "        ad = np.array(self.appleDirection())\n",
    "        #convert to unit vectors\n",
    "        sd = sd / np.linalg.norm(sd)\n",
    "        ad = ad / np.linalg.norm(ad)\n",
    "        #return np.arccos(np.dot(sd, ad))\n",
    "        return math.atan2(sd[0] * ad[1] - sd[1] * ad[0], sd[0] * ad[0] + sd[1] * ad[1]) / math.pi\n",
    "        \n",
    "    def parameters(self):\n",
    "        ifobstacle = []\n",
    "        for i in [-1,0,1]:\n",
    "            self.moveFLR(i)\n",
    "            ifobstacle.append(not self.ifsurvived())\n",
    "            self.snake.pop(-1)\n",
    "        ifobstacle.append(self.angleBtw())\n",
    "        return ifobstacle\n",
    "        \n",
    "    def foodDistance(self):\n",
    "        #Manhattan distance\n",
    "        return abs(self.snake[-1][0]-self.food_loc[0])+abs(self.snake[-1][1]-self.food_loc[1])\n"
   ]
  },
  {
   "cell_type": "markdown",
   "metadata": {
    "heading_collapsed": true
   },
   "source": [
    "## DataSet Generator"
   ]
  },
  {
   "cell_type": "code",
   "execution_count": 28,
   "metadata": {
    "hidden": true
   },
   "outputs": [],
   "source": [
    "import pandas as pd\n",
    "class SnakeGameDatasetGenerator:\n",
    "    def __init__(self,Ngames=10,Nsteps=100):\n",
    "        self.Ngames = Ngames\n",
    "        self.Nsteps = Nsteps\n",
    "        self.dataset = []\n",
    "        for _ in range(Ngames):\n",
    "            self.playGame()\n",
    "        \n",
    "        \n",
    "    def playGame(self):\n",
    "        snake = Snake(skipgui=True)\n",
    "        prevscore = len(snake.snake)\n",
    "        prevfooddist = snake.foodDistance()\n",
    "        for direction in [random.randint(-1,1) for _ in range(self.Nsteps)]:\n",
    "            observation = snake.parameters()\n",
    "            observation.append(direction)\n",
    "            snake.stepFLR([direction])\n",
    "            newscore = len(snake.snake)\n",
    "            newfooddist = snake.foodDistance()\n",
    "            if snake.done:\n",
    "                observation.append(-1)\n",
    "            elif newscore > prevscore or newfooddist<prevfooddist:\n",
    "                observation.append(1)\n",
    "            else:\n",
    "                observation.append(0)\n",
    "            prevscore=newscore\n",
    "            prevfooddist=newfooddist\n",
    "            self.dataset.append(observation)\n",
    "            if snake.done:\n",
    "                break \n",
    "    def saveDataset(self,features=['IsLeftObstacle','IsForwardObstacle','IsRightObstacle','AngleWithFood','Direction','Decision']):\n",
    "        datasetdf = pd.DataFrame(dg.dataset,columns=features)\n",
    "        filename = 'SnakegameDataset_'+str(self.Ngames)+'_'+str(self.Nsteps)+'.csv'\n",
    "        datasetdf.to_csv(filename)\n",
    "        "
   ]
  },
  {
   "cell_type": "code",
   "execution_count": 29,
   "metadata": {
    "hidden": true
   },
   "outputs": [],
   "source": [
    "# dg = SnakeGameDatasetGenerator(Ngames=1000,Nsteps=1000)\n",
    "# print(len(dg.dataset))\n",
    "\n",
    "# from collections import Counter\n",
    "# freq = Counter([x[4] for x in dg.dataset])\n",
    "# print(freq)\n",
    "\n",
    "# dg.saveDataset()"
   ]
  },
  {
   "cell_type": "markdown",
   "metadata": {
    "heading_collapsed": true
   },
   "source": [
    "## Model Building"
   ]
  },
  {
   "cell_type": "code",
   "execution_count": 1,
   "metadata": {
    "hidden": true
   },
   "outputs": [],
   "source": [
    "import pandas as pd"
   ]
  },
  {
   "cell_type": "code",
   "execution_count": 2,
   "metadata": {
    "hidden": true
   },
   "outputs": [],
   "source": [
    "data = pd.read_csv(\"SnakegameDataset_1000_1000.csv\",index_col=0)"
   ]
  },
  {
   "cell_type": "code",
   "execution_count": 3,
   "metadata": {
    "hidden": true
   },
   "outputs": [
    {
     "data": {
      "text/html": [
       "<div>\n",
       "<style>\n",
       "    .dataframe thead tr:only-child th {\n",
       "        text-align: right;\n",
       "    }\n",
       "\n",
       "    .dataframe thead th {\n",
       "        text-align: left;\n",
       "    }\n",
       "\n",
       "    .dataframe tbody tr th {\n",
       "        vertical-align: top;\n",
       "    }\n",
       "</style>\n",
       "<table border=\"1\" class=\"dataframe\">\n",
       "  <thead>\n",
       "    <tr style=\"text-align: right;\">\n",
       "      <th></th>\n",
       "      <th>IsLeftObstacle</th>\n",
       "      <th>IsForwardObstacle</th>\n",
       "      <th>IsRightObstacle</th>\n",
       "      <th>AngleWithFood</th>\n",
       "      <th>Direction</th>\n",
       "      <th>Decision</th>\n",
       "    </tr>\n",
       "  </thead>\n",
       "  <tbody>\n",
       "    <tr>\n",
       "      <th>0</th>\n",
       "      <td>False</td>\n",
       "      <td>False</td>\n",
       "      <td>False</td>\n",
       "      <td>0.039583</td>\n",
       "      <td>-1</td>\n",
       "      <td>0</td>\n",
       "    </tr>\n",
       "    <tr>\n",
       "      <th>1</th>\n",
       "      <td>False</td>\n",
       "      <td>False</td>\n",
       "      <td>False</td>\n",
       "      <td>-0.422021</td>\n",
       "      <td>1</td>\n",
       "      <td>0</td>\n",
       "    </tr>\n",
       "    <tr>\n",
       "      <th>2</th>\n",
       "      <td>False</td>\n",
       "      <td>False</td>\n",
       "      <td>False</td>\n",
       "      <td>0.069604</td>\n",
       "      <td>0</td>\n",
       "      <td>0</td>\n",
       "    </tr>\n",
       "    <tr>\n",
       "      <th>3</th>\n",
       "      <td>False</td>\n",
       "      <td>False</td>\n",
       "      <td>False</td>\n",
       "      <td>0.062833</td>\n",
       "      <td>-1</td>\n",
       "      <td>0</td>\n",
       "    </tr>\n",
       "    <tr>\n",
       "      <th>4</th>\n",
       "      <td>False</td>\n",
       "      <td>False</td>\n",
       "      <td>False</td>\n",
       "      <td>-0.407226</td>\n",
       "      <td>1</td>\n",
       "      <td>0</td>\n",
       "    </tr>\n",
       "  </tbody>\n",
       "</table>\n",
       "</div>"
      ],
      "text/plain": [
       "   IsLeftObstacle  IsForwardObstacle  IsRightObstacle  AngleWithFood  \\\n",
       "0           False              False            False       0.039583   \n",
       "1           False              False            False      -0.422021   \n",
       "2           False              False            False       0.069604   \n",
       "3           False              False            False       0.062833   \n",
       "4           False              False            False      -0.407226   \n",
       "\n",
       "   Direction  Decision  \n",
       "0         -1         0  \n",
       "1          1         0  \n",
       "2          0         0  \n",
       "3         -1         0  \n",
       "4          1         0  "
      ]
     },
     "execution_count": 3,
     "metadata": {},
     "output_type": "execute_result"
    }
   ],
   "source": [
    "data.head()"
   ]
  },
  {
   "cell_type": "code",
   "execution_count": 4,
   "metadata": {
    "hidden": true
   },
   "outputs": [],
   "source": [
    "X = data.drop([\"Decision\"],axis=1)\n",
    "Y = data[\"Decision\"]"
   ]
  },
  {
   "cell_type": "code",
   "execution_count": 5,
   "metadata": {
    "hidden": true
   },
   "outputs": [
    {
     "data": {
      "text/plain": [
       "IsLeftObstacle       0\n",
       "IsForwardObstacle    0\n",
       "IsRightObstacle      0\n",
       "AngleWithFood        0\n",
       "Direction            0\n",
       "dtype: int64"
      ]
     },
     "execution_count": 5,
     "metadata": {},
     "output_type": "execute_result"
    }
   ],
   "source": [
    "import numpy as np\n",
    "np.sum(X.isnull(),axis=0)"
   ]
  },
  {
   "cell_type": "code",
   "execution_count": 10,
   "metadata": {
    "hidden": true
   },
   "outputs": [],
   "source": [
    "X.loc[X.AngleWithFood.isnull(),\"AngleWithFood\"]=0"
   ]
  },
  {
   "cell_type": "code",
   "execution_count": 6,
   "metadata": {
    "hidden": true
   },
   "outputs": [
    {
     "name": "stderr",
     "output_type": "stream",
     "text": [
      "Using TensorFlow backend.\n"
     ]
    },
    {
     "name": "stdout",
     "output_type": "stream",
     "text": [
      "Epoch 1/20\n",
      "17205/17205 [==============================] - 0s 26us/step - loss: 0.1492 - acc: 0.8448\n",
      "Epoch 2/20\n",
      "17205/17205 [==============================] - 0s 21us/step - loss: 0.0656 - acc: 0.9531\n",
      "Epoch 3/20\n",
      "17205/17205 [==============================] - 0s 21us/step - loss: 0.0467 - acc: 0.9772\n",
      "Epoch 4/20\n",
      "17205/17205 [==============================] - 0s 22us/step - loss: 0.0366 - acc: 0.9829\n",
      "Epoch 5/20\n",
      "17205/17205 [==============================] - 0s 21us/step - loss: 0.0310 - acc: 0.9852\n",
      "Epoch 6/20\n",
      "17205/17205 [==============================] - 0s 21us/step - loss: 0.0278 - acc: 0.9854\n",
      "Epoch 7/20\n",
      "17205/17205 [==============================] - 0s 20us/step - loss: 0.0254 - acc: 0.9863\n",
      "Epoch 8/20\n",
      "17205/17205 [==============================] - 0s 22us/step - loss: 0.0236 - acc: 0.9876\n",
      "Epoch 9/20\n",
      "17205/17205 [==============================] - 0s 21us/step - loss: 0.0225 - acc: 0.9884\n",
      "Epoch 10/20\n",
      "17205/17205 [==============================] - 0s 21us/step - loss: 0.0215 - acc: 0.9883\n",
      "Epoch 11/20\n",
      "17205/17205 [==============================] - 0s 21us/step - loss: 0.0207 - acc: 0.9899\n",
      "Epoch 12/20\n",
      "17205/17205 [==============================] - 0s 21us/step - loss: 0.0201 - acc: 0.9893\n",
      "Epoch 13/20\n",
      "17205/17205 [==============================] - 0s 21us/step - loss: 0.0196 - acc: 0.9909\n",
      "Epoch 14/20\n",
      "17205/17205 [==============================] - 0s 22us/step - loss: 0.0190 - acc: 0.9902\n",
      "Epoch 15/20\n",
      "17205/17205 [==============================] - 0s 21us/step - loss: 0.0186 - acc: 0.9901\n",
      "Epoch 16/20\n",
      "17205/17205 [==============================] - 0s 22us/step - loss: 0.0180 - acc: 0.9905\n",
      "Epoch 17/20\n",
      "17205/17205 [==============================] - 0s 22us/step - loss: 0.0175 - acc: 0.9916\n",
      "Epoch 18/20\n",
      "17205/17205 [==============================] - 0s 22us/step - loss: 0.0171 - acc: 0.9915\n",
      "Epoch 19/20\n",
      "17205/17205 [==============================] - 0s 22us/step - loss: 0.0168 - acc: 0.9910\n",
      "Epoch 20/20\n",
      "17205/17205 [==============================] - 1s 30us/step - loss: 0.0165 - acc: 0.9920\n"
     ]
    }
   ],
   "source": [
    "from keras.models import Sequential\n",
    "from keras.layers import Dense, Activation, Dropout\n",
    "import keras\n",
    "import tensorflow as tf \n",
    "\n",
    "model = Sequential()\n",
    "model.add(Dense(64, activation='relu', input_dim=5))\n",
    "#model.add(Dropout(0.5))\n",
    "#model.add(Dense(32, activation='relu'))\n",
    "#model.add(Dropout(0.5))\n",
    "model.add(Dense(1, activation='linear'))\n",
    "model.compile(optimizer='rmsprop',\n",
    "              loss='mse',\n",
    "              metrics=['accuracy'])\n",
    "\n",
    "\n",
    "\n",
    "# Train the model, iterating on the data in batches of 32 samples\n",
    "model.fit(X, Y, epochs=20, batch_size=32)\n",
    "model.save(\"SnakemodelNN.hdf5\")"
   ]
  },
  {
   "cell_type": "code",
   "execution_count": 12,
   "metadata": {
    "hidden": true
   },
   "outputs": [
    {
     "name": "stdout",
     "output_type": "stream",
     "text": [
      "Requirement already satisfied: h5py in c:\\programdata\\anaconda3\\lib\\site-packages (2.7.1)\n",
      "Requirement already satisfied: numpy>=1.7 in c:\\programdata\\anaconda3\\lib\\site-packages (from h5py) (1.14.0)\n",
      "Requirement already satisfied: six in c:\\programdata\\anaconda3\\lib\\site-packages (from h5py) (1.11.0)\n"
     ]
    }
   ],
   "source": [
    "!pip install h5py"
   ]
  },
  {
   "cell_type": "markdown",
   "metadata": {
    "heading_collapsed": true
   },
   "source": [
    "## Model Testing"
   ]
  },
  {
   "cell_type": "code",
   "execution_count": 3,
   "metadata": {
    "hidden": true
   },
   "outputs": [],
   "source": [
    "def testModel(model, skipgui=False, debug=False):\n",
    "    snake = Snake(skipgui=skipgui)\n",
    "    startlen = len(snake.snake)\n",
    "    while not snake.done:\n",
    "        param = snake.parameters()\n",
    "        pred = []\n",
    "        for x in range(-1,2):\n",
    "            pred.append(model.predict(np.array(param+[x]).reshape(1,5,)))\n",
    "        direction = np.argmax(pred)-1\n",
    "        snake.stepFLR([direction])\n",
    "        if debug:\n",
    "            print(param+[direction])\n",
    "            print(\"Score : \"+str(len(snake.snake)-startlen))\n",
    "    return param+[direction], snake, (len(snake.snake)-startlen)\n",
    "        "
   ]
  },
  {
   "cell_type": "code",
   "execution_count": 6,
   "metadata": {
    "hidden": true
   },
   "outputs": [],
   "source": [
    "model = keras.models.load_model(\"SnakemodelNN.hdf5\")"
   ]
  },
  {
   "cell_type": "code",
   "execution_count": 7,
   "metadata": {
    "hidden": true
   },
   "outputs": [
    {
     "name": "stdout",
     "output_type": "stream",
     "text": [
      "[True, True, True, -0.5395834241605656, -1]\n",
      "Score : 60\n"
     ]
    }
   ],
   "source": [
    "lastdecision, snake, score = testModel(model,skipgui=True, debug=True)"
   ]
  },
  {
   "cell_type": "code",
   "execution_count": 39,
   "metadata": {
    "hidden": true
   },
   "outputs": [],
   "source": [
    "situations=[]\n",
    "scores=[]\n",
    "for _ in range(0,100):\n",
    "    lastdecision, snake, score = testModel(model,skipgui=True, debug=False)\n",
    "    situations.append(lastdecision[:3])\n",
    "    scores.append(score)"
   ]
  },
  {
   "cell_type": "code",
   "execution_count": 40,
   "metadata": {
    "hidden": true
   },
   "outputs": [
    {
     "data": {
      "text/plain": [
       "Counter({(True, True, True): 100})"
      ]
     },
     "execution_count": 40,
     "metadata": {},
     "output_type": "execute_result"
    }
   ],
   "source": [
    "Counter(tuple(item) for item in situations)"
   ]
  },
  {
   "cell_type": "code",
   "execution_count": 41,
   "metadata": {
    "hidden": true
   },
   "outputs": [
    {
     "data": {
      "text/plain": [
       "(array([13.,  9., 23., 20., 16.,  7.,  6.,  4.,  1.,  1.]),\n",
       " array([ 23. ,  33.4,  43.8,  54.2,  64.6,  75. ,  85.4,  95.8, 106.2,\n",
       "        116.6, 127. ]),\n",
       " <a list of 10 Patch objects>)"
      ]
     },
     "execution_count": 41,
     "metadata": {},
     "output_type": "execute_result"
    },
    {
     "data": {
      "image/png": "[encoded data removed]",
      "text/plain": [
       "<matplotlib.figure.Figure at 0x5edd795438>"
      ]
     },
     "metadata": {
      "needs_background": "light"
     },
     "output_type": "display_data"
    }
   ],
   "source": [
    "plt.hist(scores)"
   ]
  },
  {
   "cell_type": "code",
   "execution_count": 42,
   "metadata": {
    "hidden": true
   },
   "outputs": [
    {
     "data": {
      "text/plain": [
       "58.0"
      ]
     },
     "execution_count": 42,
     "metadata": {},
     "output_type": "execute_result"
    }
   ],
   "source": [
    "np.median(scores)"
   ]
  },
  {
   "cell_type": "code",
   "execution_count": 19,
   "metadata": {
    "hidden": true
   },
   "outputs": [
    {
     "data": {
      "image/png": "[encoded data removed]",
      "text/plain": [
       "<matplotlib.figure.Figure at 0x5edb40c860>"
      ]
     },
     "metadata": {},
     "output_type": "display_data"
    },
    {
     "ename": "KeyboardInterrupt",
     "evalue": "",
     "output_type": "error",
     "traceback": [
      "\u001b[1;31m---------------------------------------------------------------------------\u001b[0m",
      "\u001b[1;31mKeyboardInterrupt\u001b[0m                         Traceback (most recent call last)",
      "\u001b[1;32m<ipython-input-19-38860aeffd64>\u001b[0m in \u001b[0;36m<module>\u001b[1;34m()\u001b[0m\n\u001b[1;32m----> 1\u001b[1;33m \u001b[0mtestModel\u001b[0m\u001b[1;33m(\u001b[0m\u001b[0mmodel\u001b[0m\u001b[1;33m)\u001b[0m\u001b[1;33m\u001b[0m\u001b[0m\n\u001b[0m",
      "\u001b[1;32m<ipython-input-12-b30aad747971>\u001b[0m in \u001b[0;36mtestModel\u001b[1;34m(model, skipgui, debug)\u001b[0m\n\u001b[0;32m      8\u001b[0m             \u001b[0mpred\u001b[0m\u001b[1;33m.\u001b[0m\u001b[0mappend\u001b[0m\u001b[1;33m(\u001b[0m\u001b[0mmodel\u001b[0m\u001b[1;33m.\u001b[0m\u001b[0mpredict\u001b[0m\u001b[1;33m(\u001b[0m\u001b[0mnp\u001b[0m\u001b[1;33m.\u001b[0m\u001b[0marray\u001b[0m\u001b[1;33m(\u001b[0m\u001b[0mparam\u001b[0m\u001b[1;33m+\u001b[0m\u001b[1;33m[\u001b[0m\u001b[0mx\u001b[0m\u001b[1;33m]\u001b[0m\u001b[1;33m)\u001b[0m\u001b[1;33m.\u001b[0m\u001b[0mreshape\u001b[0m\u001b[1;33m(\u001b[0m\u001b[1;36m1\u001b[0m\u001b[1;33m,\u001b[0m\u001b[1;36m5\u001b[0m\u001b[1;33m,\u001b[0m\u001b[1;33m)\u001b[0m\u001b[1;33m)\u001b[0m\u001b[1;33m)\u001b[0m\u001b[1;33m\u001b[0m\u001b[0m\n\u001b[0;32m      9\u001b[0m         \u001b[0mdirection\u001b[0m \u001b[1;33m=\u001b[0m \u001b[0mnp\u001b[0m\u001b[1;33m.\u001b[0m\u001b[0margmax\u001b[0m\u001b[1;33m(\u001b[0m\u001b[0mpred\u001b[0m\u001b[1;33m)\u001b[0m\u001b[1;33m-\u001b[0m\u001b[1;36m1\u001b[0m\u001b[1;33m\u001b[0m\u001b[0m\n\u001b[1;32m---> 10\u001b[1;33m         \u001b[0msnake\u001b[0m\u001b[1;33m.\u001b[0m\u001b[0mstepFLR\u001b[0m\u001b[1;33m(\u001b[0m\u001b[1;33m[\u001b[0m\u001b[0mdirection\u001b[0m\u001b[1;33m]\u001b[0m\u001b[1;33m)\u001b[0m\u001b[1;33m\u001b[0m\u001b[0m\n\u001b[0m\u001b[0;32m     11\u001b[0m         \u001b[1;32mif\u001b[0m \u001b[0mdebug\u001b[0m\u001b[1;33m:\u001b[0m\u001b[1;33m\u001b[0m\u001b[0m\n\u001b[0;32m     12\u001b[0m             \u001b[0mprint\u001b[0m\u001b[1;33m(\u001b[0m\u001b[0mparam\u001b[0m\u001b[1;33m+\u001b[0m\u001b[1;33m[\u001b[0m\u001b[0mdirection\u001b[0m\u001b[1;33m]\u001b[0m\u001b[1;33m)\u001b[0m\u001b[1;33m\u001b[0m\u001b[0m\n",
      "\u001b[1;32m<ipython-input-2-a95812939629>\u001b[0m in \u001b[0;36mstepFLR\u001b[1;34m(self, directions)\u001b[0m\n\u001b[0;32m    108\u001b[0m             \u001b[0mself\u001b[0m\u001b[1;33m.\u001b[0m\u001b[0miffoodeaten\u001b[0m\u001b[1;33m(\u001b[0m\u001b[1;33m)\u001b[0m\u001b[1;33m\u001b[0m\u001b[0m\n\u001b[0;32m    109\u001b[0m             \u001b[1;32mif\u001b[0m \u001b[1;32mnot\u001b[0m \u001b[0mself\u001b[0m\u001b[1;33m.\u001b[0m\u001b[0mskipgui\u001b[0m\u001b[1;33m:\u001b[0m\u001b[1;33m\u001b[0m\u001b[0m\n\u001b[1;32m--> 110\u001b[1;33m                 \u001b[0mself\u001b[0m\u001b[1;33m.\u001b[0m\u001b[0mrendergui\u001b[0m\u001b[1;33m(\u001b[0m\u001b[1;33m)\u001b[0m\u001b[1;33m\u001b[0m\u001b[0m\n\u001b[0m\u001b[0;32m    111\u001b[0m             \u001b[0mdisplay\u001b[0m\u001b[1;33m.\u001b[0m\u001b[0mclear_output\u001b[0m\u001b[1;33m(\u001b[0m\u001b[0mwait\u001b[0m\u001b[1;33m=\u001b[0m\u001b[1;32mTrue\u001b[0m\u001b[1;33m)\u001b[0m\u001b[1;33m\u001b[0m\u001b[0m\n\u001b[0;32m    112\u001b[0m \u001b[1;33m\u001b[0m\u001b[0m\n",
      "\u001b[1;32m<ipython-input-2-a95812939629>\u001b[0m in \u001b[0;36mrendergui\u001b[1;34m(self)\u001b[0m\n\u001b[0;32m     79\u001b[0m         \u001b[0mdisplay\u001b[0m\u001b[1;33m.\u001b[0m\u001b[0mclear_output\u001b[0m\u001b[1;33m(\u001b[0m\u001b[0mwait\u001b[0m\u001b[1;33m=\u001b[0m\u001b[1;32mTrue\u001b[0m\u001b[1;33m)\u001b[0m\u001b[1;33m\u001b[0m\u001b[0m\n\u001b[0;32m     80\u001b[0m         \u001b[0mdisplay\u001b[0m\u001b[1;33m.\u001b[0m\u001b[0mdisplay\u001b[0m\u001b[1;33m(\u001b[0m\u001b[0mself\u001b[0m\u001b[1;33m.\u001b[0m\u001b[0mplotenv\u001b[0m\u001b[1;33m(\u001b[0m\u001b[1;33m)\u001b[0m\u001b[1;33m)\u001b[0m\u001b[1;33m\u001b[0m\u001b[0m\n\u001b[1;32m---> 81\u001b[1;33m         \u001b[0mtime\u001b[0m\u001b[1;33m.\u001b[0m\u001b[0msleep\u001b[0m\u001b[1;33m(\u001b[0m\u001b[0mself\u001b[0m\u001b[1;33m.\u001b[0m\u001b[0mrenderdelay\u001b[0m\u001b[1;33m)\u001b[0m\u001b[1;33m\u001b[0m\u001b[0m\n\u001b[0m\u001b[0;32m     82\u001b[0m \u001b[1;33m\u001b[0m\u001b[0m\n\u001b[0;32m     83\u001b[0m \u001b[1;33m\u001b[0m\u001b[0m\n",
      "\u001b[1;31mKeyboardInterrupt\u001b[0m: "
     ]
    },
    {
     "data": {
      "image/png": "[encoded data removed]",
      "text/plain": [
       "<matplotlib.figure.Figure at 0x5edb40c860>"
      ]
     },
     "metadata": {
      "needs_background": "light"
     },
     "output_type": "display_data"
    }
   ],
   "source": [
    "testModel(model)"
   ]
  },
  {
   "cell_type": "code",
   "execution_count": null,
   "metadata": {
    "hidden": true
   },
   "outputs": [],
   "source": []
  },
  {
   "cell_type": "code",
   "execution_count": null,
   "metadata": {
    "hidden": true
   },
   "outputs": [],
   "source": []
  },
  {
   "cell_type": "code",
   "execution_count": null,
   "metadata": {
    "hidden": true
   },
   "outputs": [],
   "source": []
  }
 ],
 "metadata": {
  "kernelspec": {
   "display_name": "Python 3",
   "language": "python",
   "name": "python3"
  },
  "language_info": {
   "codemirror_mode": {
    "name": "ipython",
    "version": 3
   },
   "file_extension": ".py",
   "mimetype": "text/x-python",
   "name": "python",
   "nbconvert_exporter": "python",
   "pygments_lexer": "ipython3",
   "version": "3.6.6"
  }
 },
 "nbformat": 4,
 "nbformat_minor": 1
}
